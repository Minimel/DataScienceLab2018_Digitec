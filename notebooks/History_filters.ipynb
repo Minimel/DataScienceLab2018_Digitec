{
 "cells": [
  {
   "cell_type": "code",
   "execution_count": 71,
   "metadata": {},
   "outputs": [],
   "source": [
    "import numpy as np\n",
    "import pickle as pkl\n",
    "import pandas as pd\n",
    "\n",
    "def save_obj(obj, name ):\n",
    "    with open(name + '.pkl', 'wb') as f:\n",
    "        pkl.dump(obj, f, pkl.HIGHEST_PROTOCOL)\n",
    "\n",
    "\n",
    "def load_obj(name ):\n",
    "    with open(name + '.pkl', 'rb') as f:\n",
    "        return pkl.load(f)"
   ]
  },
  {
   "cell_type": "code",
   "execution_count": 11,
   "metadata": {},
   "outputs": [],
   "source": [
    "        products_cat = load_obj('../data/products_table')\n",
    "        traffic_cat = load_obj('../data/traffic_table')\n",
    "        purchased_cat = load_obj('../data/purchased_table')\n",
    "        question_text_df = load_obj('../data/question_text_df')\n",
    "        answer_text_df = load_obj('../data/answer_text')"
   ]
  },
  {
   "cell_type": "code",
   "execution_count": 20,
   "metadata": {},
   "outputs": [],
   "source": [
    "def question_id_to_text(question, question_df):\n",
    "    try:\n",
    "        question_text = question_df.loc[question_df[\"PropertyDefinitionId\"] == str(int(question)), \"PropertyDefinition\"].values[0]\n",
    "    except IndexError:\n",
    "        question_text = 'No text equivalent for question'\n",
    "    return question_text"
   ]
  },
  {
   "cell_type": "code",
   "execution_count": 23,
   "metadata": {},
   "outputs": [
    {
     "name": "stdout",
     "output_type": "stream",
     "text": [
      "Betriebssystem\n"
     ]
    }
   ],
   "source": [
    "question_text = question_id_to_text('7302', question_text_df)\n",
    "print(question_text)"
   ]
  },
  {
   "cell_type": "code",
   "execution_count": 25,
   "metadata": {
    "scrolled": true
   },
   "outputs": [
    {
     "data": {
      "text/plain": [
       "0         {'1': [0.39115999999999995], '7302': ['5767']}\n",
       "1                           {'1': [0.39115999999999995]}\n",
       "2                   {'7302': ['185245'], '11297': [0.0]}\n",
       "3      {'746': ['278771', '306565', '365632'], '6885'...\n",
       "4                                  {'16667': ['310362']}\n",
       "5                                  {'11550': ['311476']}\n",
       "6      {'12129': ['185639'], '1': [0.35559999999999997]}\n",
       "7      {'12129': ['5306', '185639', '12936'], '1': [0...\n",
       "8      {'12129': ['185639'], '7302': ['5767'], '11297...\n",
       "9          {'11280': [1000000000.0], '6885': ['277226']}\n",
       "10                                      {'1': [0.32004]}\n",
       "11     {'16': ['294'], '746': ['306568', '365631', '2...\n",
       "12     {'11297': [400000000000.0, 0.0], '6885': ['324...\n",
       "13     {'9668': ['180435'], '7302': ['5767'], '11339'...\n",
       "14                                      {'1': [0.42672]}\n",
       "15                                      {'1': [0.42672]}\n",
       "16             {'12129': ['185639'], '6885': ['277226']}\n",
       "17                          {'1': [0.39115999999999995]}\n",
       "18                          {'1': [0.35559999999999997]}\n",
       "19                                  {'8278': ['284558']}\n",
       "20     {'746': ['365631'], '12129': ['167188'], '1': ...\n",
       "21                          {'1': [0.39115999999999995]}\n",
       "22     {'12129': ['185639'], '1': [0.3555999999999999...\n",
       "23                                    {'7302': ['5767']}\n",
       "24                 {'12129': ['167188'], '1': [0.32004]}\n",
       "25        {'12129': ['185639'], '11280': [1000000000.0]}\n",
       "26                           {'11297': [400000000000.0]}\n",
       "27                   {'421': [0.0], '11339': ['159761']}\n",
       "28     {'16': ['294'], '11280': [1000000000.0], '1': ...\n",
       "29     {'746': ['306568', '365631', '278322'], '11280...\n",
       "                             ...                        \n",
       "496    {'746': ['365631', '408154'], '347': ['305514'...\n",
       "497    {'12129': ['5306'], '1': [0.39115999999999995]...\n",
       "498     {'11107': ['168998'], '11297': [400000000000.0]}\n",
       "499                  {'746': ['365632'], '1': [0.32004]}\n",
       "500                         {'1': [0.39115999999999995]}\n",
       "501    {'8745': ['19939'], '1': [0.32004], '7302': ['...\n",
       "502    {'746': ['365631'], '8745': ['19944'], '1': [0...\n",
       "503         {'7302': ['339'], '11297': [400000000000.0]}\n",
       "504         {'746': ['365631'], '11280': [1000000000.0]}\n",
       "505                                   {'2730': ['1083']}\n",
       "506                                     {'1': [0.32004]}\n",
       "507    {'11280': [1000000000.0], '7302': ['339'], '11...\n",
       "508    {'746': ['365631'], '1': [0.32004], '7302': ['...\n",
       "509                                  {'746': ['365631']}\n",
       "510                                {'11339': ['159763']}\n",
       "511                         {'1': [0.35559999999999997]}\n",
       "512    {'746': ['365632'], '8745': ['19939'], '1': [0...\n",
       "513                                  {'10526': ['1915']}\n",
       "514                                     {'11297': [0.0]}\n",
       "515                          {'11297': [400000000000.0]}\n",
       "516    {'12129': ['185639'], '7302': ['339'], '11297'...\n",
       "517                                     {'1': [0.32004]}\n",
       "518                                     {'1': [0.32004]}\n",
       "519        {'1': [0.39115999999999995], '7302': ['339']}\n",
       "520                                     {'1': [0.32004]}\n",
       "521     {'1': [0.39115999999999995], '9574': ['193379']}\n",
       "522                            {'11280': [1000000000.0]}\n",
       "523                            {'11280': [1000000000.0]}\n",
       "524                            {'11280': [1000000000.0]}\n",
       "525                                     {'11297': [0.0]}\n",
       "Name: answers_selected, Length: 526, dtype: object"
      ]
     },
     "execution_count": 25,
     "metadata": {},
     "output_type": "execute_result"
    }
   ],
   "source": [
    "traffic_cat[\"answers_selected\"]"
   ]
  },
  {
   "cell_type": "code",
   "execution_count": 16,
   "metadata": {},
   "outputs": [
    {
     "data": {
      "text/plain": [
       "{'746': ['278771', '306565', '365632'], '6885': ['277226']}"
      ]
     },
     "execution_count": 16,
     "metadata": {},
     "output_type": "execute_result"
    }
   ],
   "source": [
    "traffic_cat[\"answers_selected\"].iloc[3]"
   ]
  },
  {
   "cell_type": "markdown",
   "metadata": {},
   "source": [
    "Compute the list of all the filters used in history:"
   ]
  },
  {
   "cell_type": "code",
   "execution_count": 43,
   "metadata": {},
   "outputs": [],
   "source": [
    "list_filters_used = []\n",
    "i = 0\n",
    "for t in traffic_cat[\"answers_selected\"]:\n",
    "    i += 1\n",
    "    for k in t.keys():\n",
    "        list_filters_used.append(k)"
   ]
  },
  {
   "cell_type": "markdown",
   "metadata": {},
   "source": [
    "Number of different filters used:"
   ]
  },
  {
   "cell_type": "code",
   "execution_count": 44,
   "metadata": {},
   "outputs": [
    {
     "data": {
      "text/plain": [
       "50"
      ]
     },
     "execution_count": 44,
     "metadata": {},
     "output_type": "execute_result"
    }
   ],
   "source": [
    "unique_filters = set(list_filters_used)\n",
    "len(unique_filters)"
   ]
  },
  {
   "cell_type": "markdown",
   "metadata": {},
   "source": [
    "There are many filters that don't occur in product tables! I deleted them..."
   ]
  },
  {
   "cell_type": "markdown",
   "metadata": {},
   "source": [
    "Names and frequency:"
   ]
  },
  {
   "cell_type": "code",
   "execution_count": 97,
   "metadata": {
    "scrolled": true
   },
   "outputs": [
    {
     "data": {
      "text/html": [
       "<div>\n",
       "<style scoped>\n",
       "    .dataframe tbody tr th:only-of-type {\n",
       "        vertical-align: middle;\n",
       "    }\n",
       "\n",
       "    .dataframe tbody tr th {\n",
       "        vertical-align: top;\n",
       "    }\n",
       "\n",
       "    .dataframe thead th {\n",
       "        text-align: right;\n",
       "    }\n",
       "</style>\n",
       "<table border=\"1\" class=\"dataframe\">\n",
       "  <thead>\n",
       "    <tr style=\"text-align: right;\">\n",
       "      <th></th>\n",
       "      <th>ProductId</th>\n",
       "      <th>text</th>\n",
       "      <th>frequency</th>\n",
       "    </tr>\n",
       "  </thead>\n",
       "  <tbody>\n",
       "    <tr>\n",
       "      <th>0</th>\n",
       "      <td>16</td>\n",
       "      <td>Bildschirmoberfläche</td>\n",
       "      <td>0.0271536</td>\n",
       "    </tr>\n",
       "    <tr>\n",
       "      <th>1</th>\n",
       "      <td>697</td>\n",
       "      <td>Speicherkartentyp</td>\n",
       "      <td>0.00093633</td>\n",
       "    </tr>\n",
       "    <tr>\n",
       "      <th>2</th>\n",
       "      <td>13</td>\n",
       "      <td>Tastaturlayout</td>\n",
       "      <td>0.00093633</td>\n",
       "    </tr>\n",
       "    <tr>\n",
       "      <th>3</th>\n",
       "      <td>8745</td>\n",
       "      <td>Prozessortyp</td>\n",
       "      <td>0.0290262</td>\n",
       "    </tr>\n",
       "    <tr>\n",
       "      <th>4</th>\n",
       "      <td>460</td>\n",
       "      <td>Speicherkapazität</td>\n",
       "      <td>0.00280899</td>\n",
       "    </tr>\n",
       "    <tr>\n",
       "      <th>5</th>\n",
       "      <td>1</td>\n",
       "      <td>Bildschirmgrösse</td>\n",
       "      <td>0.250936</td>\n",
       "    </tr>\n",
       "    <tr>\n",
       "      <th>6</th>\n",
       "      <td>12129</td>\n",
       "      <td>Notebook Anwendungsbereich</td>\n",
       "      <td>0.114232</td>\n",
       "    </tr>\n",
       "    <tr>\n",
       "      <th>7</th>\n",
       "      <td>60</td>\n",
       "      <td>Datenspeicher Schnittstelle</td>\n",
       "      <td>0.00374532</td>\n",
       "    </tr>\n",
       "    <tr>\n",
       "      <th>8</th>\n",
       "      <td>748</td>\n",
       "      <td>Bildschirmtechnologie</td>\n",
       "      <td>0.00468165</td>\n",
       "    </tr>\n",
       "    <tr>\n",
       "      <th>9</th>\n",
       "      <td>7302</td>\n",
       "      <td>Betriebssystem</td>\n",
       "      <td>0.144195</td>\n",
       "    </tr>\n",
       "    <tr>\n",
       "      <th>10</th>\n",
       "      <td>11297</td>\n",
       "      <td>Kapazität SSD</td>\n",
       "      <td>0.0561798</td>\n",
       "    </tr>\n",
       "    <tr>\n",
       "      <th>11</th>\n",
       "      <td>746</td>\n",
       "      <td>Prozessor-Familie</td>\n",
       "      <td>0.115169</td>\n",
       "    </tr>\n",
       "    <tr>\n",
       "      <th>12</th>\n",
       "      <td>421</td>\n",
       "      <td>Dedizierter Grafikspeicher</td>\n",
       "      <td>0.00187266</td>\n",
       "    </tr>\n",
       "    <tr>\n",
       "      <th>13</th>\n",
       "      <td>11298</td>\n",
       "      <td>Kapazität HDD</td>\n",
       "      <td>0.00749064</td>\n",
       "    </tr>\n",
       "    <tr>\n",
       "      <th>14</th>\n",
       "      <td>11280</td>\n",
       "      <td>Total verbauter Arbeitsspeicher</td>\n",
       "      <td>0.0608614</td>\n",
       "    </tr>\n",
       "    <tr>\n",
       "      <th>15</th>\n",
       "      <td>11550</td>\n",
       "      <td>Bildauflösung</td>\n",
       "      <td>0.00093633</td>\n",
       "    </tr>\n",
       "    <tr>\n",
       "      <th>16</th>\n",
       "      <td>11339</td>\n",
       "      <td>Grafikleistung</td>\n",
       "      <td>0.0262172</td>\n",
       "    </tr>\n",
       "    <tr>\n",
       "      <th>17</th>\n",
       "      <td>7</td>\n",
       "      <td>Länge</td>\n",
       "      <td>0.00093633</td>\n",
       "    </tr>\n",
       "    <tr>\n",
       "      <th>18</th>\n",
       "      <td>347</td>\n",
       "      <td>Grafikkarten Modell</td>\n",
       "      <td>0.0168539</td>\n",
       "    </tr>\n",
       "    <tr>\n",
       "      <th>19</th>\n",
       "      <td>4</td>\n",
       "      <td>Gewicht</td>\n",
       "      <td>0.00561798</td>\n",
       "    </tr>\n",
       "    <tr>\n",
       "      <th>20</th>\n",
       "      <td>59</td>\n",
       "      <td>Max. Drehzahl</td>\n",
       "      <td>0.00093633</td>\n",
       "    </tr>\n",
       "    <tr>\n",
       "      <th>21</th>\n",
       "      <td>9668</td>\n",
       "      <td>Optisches Laufwerktyp</td>\n",
       "      <td>0.0131086</td>\n",
       "    </tr>\n",
       "    <tr>\n",
       "      <th>22</th>\n",
       "      <td>6885</td>\n",
       "      <td>Windows Version</td>\n",
       "      <td>0.100187</td>\n",
       "    </tr>\n",
       "    <tr>\n",
       "      <th>23</th>\n",
       "      <td>182</td>\n",
       "      <td>Formfaktor</td>\n",
       "      <td>0.00187266</td>\n",
       "    </tr>\n",
       "    <tr>\n",
       "      <th>24</th>\n",
       "      <td>10526</td>\n",
       "      <td>Farbgruppe</td>\n",
       "      <td>0.011236</td>\n",
       "    </tr>\n",
       "    <tr>\n",
       "      <th>25</th>\n",
       "      <td>3195</td>\n",
       "      <td>Arbeitsspeichertyp</td>\n",
       "      <td>0.00093633</td>\n",
       "    </tr>\n",
       "    <tr>\n",
       "      <th>26</th>\n",
       "      <td>7202</td>\n",
       "      <td>Sprache</td>\n",
       "      <td>0.00093633</td>\n",
       "    </tr>\n",
       "  </tbody>\n",
       "</table>\n",
       "</div>"
      ],
      "text/plain": [
       "   ProductId                             text   frequency\n",
       "0         16             Bildschirmoberfläche   0.0271536\n",
       "1        697                Speicherkartentyp  0.00093633\n",
       "2         13                   Tastaturlayout  0.00093633\n",
       "3       8745                     Prozessortyp   0.0290262\n",
       "4        460                Speicherkapazität  0.00280899\n",
       "5          1                 Bildschirmgrösse    0.250936\n",
       "6      12129       Notebook Anwendungsbereich    0.114232\n",
       "7         60      Datenspeicher Schnittstelle  0.00374532\n",
       "8        748            Bildschirmtechnologie  0.00468165\n",
       "9       7302                   Betriebssystem    0.144195\n",
       "10     11297                    Kapazität SSD   0.0561798\n",
       "11       746                Prozessor-Familie    0.115169\n",
       "12       421       Dedizierter Grafikspeicher  0.00187266\n",
       "13     11298                    Kapazität HDD  0.00749064\n",
       "14     11280  Total verbauter Arbeitsspeicher   0.0608614\n",
       "15     11550                    Bildauflösung  0.00093633\n",
       "16     11339                   Grafikleistung   0.0262172\n",
       "17         7                            Länge  0.00093633\n",
       "18       347              Grafikkarten Modell   0.0168539\n",
       "19         4                          Gewicht  0.00561798\n",
       "20        59                    Max. Drehzahl  0.00093633\n",
       "21      9668            Optisches Laufwerktyp   0.0131086\n",
       "22      6885                  Windows Version    0.100187\n",
       "23       182                       Formfaktor  0.00187266\n",
       "24     10526                       Farbgruppe    0.011236\n",
       "25      3195               Arbeitsspeichertyp  0.00093633\n",
       "26      7202                          Sprache  0.00093633"
      ]
     },
     "execution_count": 97,
     "metadata": {},
     "output_type": "execute_result"
    }
   ],
   "source": [
    "question_text_list = []\n",
    "df_history = pd.DataFrame(columns=[\"ProductId\", \"text\", \"frequency\"])\n",
    "total_freq = 0\n",
    "for f in unique_filters:\n",
    "    question_text = question_id_to_text(f, question_text_df)\n",
    "    if not question_text =='No text equivalent for question':\n",
    "        question_text_list.append(question_text)\n",
    "        freq = list_filters_used.count(f)\n",
    "        total_freq += freq\n",
    "        df_history.loc[len(df_history)] = [f, question_text, freq]\n",
    "df_history[\"frequency\"] = df_history[\"frequency\"] / total_freq\n",
    "df_history"
   ]
  },
  {
   "cell_type": "code",
   "execution_count": 98,
   "metadata": {},
   "outputs": [],
   "source": [
    "def create_history(traffic_cat):\n",
    "    #Compute the list of all the filters used in history\n",
    "    list_filters_used = []\n",
    "    i = 0\n",
    "    for t in traffic_cat[\"answers_selected\"]:\n",
    "        i += 1\n",
    "        for k in t.keys():\n",
    "            list_filters_used.append(k)\n",
    "    unique_filters = set(list_filters_used)\n",
    "    question_text_list = []\n",
    "    df_history = pd.DataFrame(columns=[\"ProductId\", \"text\", \"frequency\"])\n",
    "    total_freq = 0\n",
    "    for f in unique_filters:\n",
    "        question_text = question_id_to_text(f, question_text_df)\n",
    "        if not question_text == 'No text equivalent for question':\n",
    "            question_text_list.append(question_text)\n",
    "            freq = list_filters_used.count(f)\n",
    "            total_freq += freq\n",
    "            df_history.loc[len(df_history)] = [f, question_text, freq]\n",
    "    df_history[\"frequency\"] = df_history[\"frequency\"] / total_freq\n",
    "    return df_history"
   ]
  },
  {
   "cell_type": "code",
   "execution_count": 103,
   "metadata": {},
   "outputs": [],
   "source": [
    "df_history =create_history(traffic_cat)"
   ]
  },
  {
   "cell_type": "code",
   "execution_count": 130,
   "metadata": {},
   "outputs": [
    {
     "data": {
      "text/plain": [
       "array(['16', '697', '13', '8745', '460', '1', '12129', '60', '748',\n",
       "       '7302', '11297', '746', '421', '11298', '11280', '11550', '11339',\n",
       "       '7', '347', '4', '59', '9668', '6885', '182', '10526', '3195',\n",
       "       '7202'], dtype=object)"
      ]
     },
     "execution_count": 130,
     "metadata": {},
     "output_type": "execute_result"
    }
   ],
   "source": [
    "df_history[\"ProductId\"].values\n"
   ]
  },
  {
   "cell_type": "code",
   "execution_count": 151,
   "metadata": {},
   "outputs": [
    {
     "name": "stdout",
     "output_type": "stream",
     "text": [
      "[0.33333333 0.33519553 0.33147114]\n"
     ]
    }
   ],
   "source": [
    "alpha = 2\n",
    "question_set = [\"7202\", \"421\", \"2\"]\n",
    "Q_proba = np.zeros(len(question_set))\n",
    "for i in range(len(question_set)):\n",
    "    q_id = str(int(question_set[i]))\n",
    "    Q_proba[i] = 1/len(question_set)\n",
    "    if q_id in df_history[\"ProductId\"].values:\n",
    "        Q_proba[i] += alpha * df_history[\"frequency\"].loc[df_history[\"ProductId\"] == q_id].values[0]\n",
    "Q_proba = Q_proba / Q_proba.sum()\n",
    "print(Q_proba)"
   ]
  },
  {
   "cell_type": "code",
   "execution_count": 143,
   "metadata": {},
   "outputs": [
    {
     "data": {
      "text/plain": [
       "0.0018726591760299626"
      ]
     },
     "execution_count": 143,
     "metadata": {},
     "output_type": "execute_result"
    }
   ],
   "source": [
    "df_history[\"frequency\"].loc[df_history[\"ProductId\"] == str(int(MI_matrix[1,0]))].values[0]\n",
    "#int(MI_matrix[0,0]) in df_history[\"ProductId\"]"
   ]
  },
  {
   "cell_type": "code",
   "execution_count": 163,
   "metadata": {},
   "outputs": [
    {
     "data": {
      "text/plain": [
       "[1, 2, 3]"
      ]
     },
     "execution_count": 163,
     "metadata": {},
     "output_type": "execute_result"
    }
   ],
   "source": [
    "a = [1,2,3,2] \n",
    "a = set(a)\n",
    "list(a)"
   ]
  },
  {
   "cell_type": "code",
   "execution_count": null,
   "metadata": {},
   "outputs": [],
   "source": []
  }
 ],
 "metadata": {
  "kernelspec": {
   "display_name": "Python 3",
   "language": "python",
   "name": "python3"
  },
  "language_info": {
   "codemirror_mode": {
    "name": "ipython",
    "version": 3
   },
   "file_extension": ".py",
   "mimetype": "text/x-python",
   "name": "python",
   "nbconvert_exporter": "python",
   "pygments_lexer": "ipython3",
   "version": "3.6.5"
  }
 },
 "nbformat": 4,
 "nbformat_minor": 2
}
